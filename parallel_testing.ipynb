{
 "cells": [
  {
   "cell_type": "code",
   "execution_count": 2,
   "metadata": {},
   "outputs": [
    {
     "name": "stdout",
     "output_type": "stream",
     "text": [
      "[{'c': 2.0, 'optimized_x': 2.000000000000002}, {'c': 2.2222222222222223, 'optimized_x': 2.2222222223281882}, {'c': 2.4444444444444446, 'optimized_x': 2.4444444446563747}, {'c': 2.6666666666666665, 'optimized_x': 2.6666666669845602}, {'c': 2.888888888888889, 'optimized_x': 2.8888888893127476}, {'c': 3.111111111111111, 'optimized_x': 3.1111111106872604}, {'c': 3.333333333333333, 'optimized_x': 3.333333333015447}, {'c': 3.5555555555555554, 'optimized_x': 3.5555555553436324}, {'c': 3.7777777777777777, 'optimized_x': 3.777777777671819}, {'c': 4.0, 'optimized_x': 4.000000000000005}]\n"
     ]
    }
   ],
   "source": [
    "import pickle\n",
    "\n",
    "# Path to your pickle file\n",
    "pickle_file_path = 'test_optimization_results.pkl'\n",
    "\n",
    "# Load the contents of the pickle file\n",
    "with open(pickle_file_path, 'rb') as file:\n",
    "    optimization_results = pickle.load(file)\n",
    "\n",
    "# Print the loaded results\n",
    "print(optimization_results)"
   ]
  },
  {
   "cell_type": "code",
   "execution_count": 3,
   "metadata": {},
   "outputs": [
    {
     "data": {
      "text/plain": [
       "3.000000000000003"
      ]
     },
     "execution_count": 3,
     "metadata": {},
     "output_type": "execute_result"
    }
   ],
   "source": [
    "result.x[0]"
   ]
  },
  {
   "cell_type": "code",
   "execution_count": null,
   "metadata": {},
   "outputs": [],
   "source": []
  }
 ],
 "metadata": {
  "kernelspec": {
   "display_name": "Python 3",
   "language": "python",
   "name": "python3"
  },
  "language_info": {
   "codemirror_mode": {
    "name": "ipython",
    "version": 3
   },
   "file_extension": ".py",
   "mimetype": "text/x-python",
   "name": "python",
   "nbconvert_exporter": "python",
   "pygments_lexer": "ipython3",
   "version": "3.11.5"
  }
 },
 "nbformat": 4,
 "nbformat_minor": 2
}
