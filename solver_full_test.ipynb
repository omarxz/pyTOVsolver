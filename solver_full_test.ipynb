{
 "cells": [
  {
   "cell_type": "code",
   "execution_count": 1,
   "metadata": {},
   "outputs": [],
   "source": [
    "%matplotlib widget\n",
    "import matplotlib\n",
    "import numpy as np\n",
    "import matplotlib.pyplot as plt\n",
    "from scipy.interpolate import interp1d\n",
    "from scipy.integrate import solve_ivp, solve_bvp\n",
    "from EOS import NeutronStarEOS\n",
    "import ode_system\n",
    "from ode_system import *\n",
    "from omars_little_helpers import *\n",
    "import os\n",
    "apr_eos = NeutronStarEOS('APR')"
   ]
  },
  {
   "cell_type": "markdown",
   "metadata": {},
   "source": [
    "## 1) Initial conditions"
   ]
  },
  {
   "cell_type": "code",
   "execution_count": 2,
   "metadata": {},
   "outputs": [],
   "source": [
    "def sample_density(min_rho_c, max_rho_c):\n",
    "    return np.random.uniform(min_rho_c, max_rho_c)\n",
    "rho_c = sample_density(4e14, 1.778e16)"
   ]
  },
  {
   "cell_type": "code",
   "execution_count": null,
   "metadata": {},
   "outputs": [],
   "source": [
    "plt.close('all')\n",
    "rho_c = 1.611e+15\n",
    "print(f\"rho_c = {rho_c:0.3e}\")\n",
    "a_c_best = -2.5\n",
    "g_s_N = 1e-16\n",
    "ode_system.mu = (NeutronMass)/(6e-22) * PhiFaGeVToCGs\n",
    "ode_system.ma = 2.8e-12 * 1e-9 * cmToGeVInv\n",
    "ode_system.fa = 1e15 * PhiFaGeVToCGs\n",
    "\n",
    "def axion_potential(a,rho_c):\n",
    "    V_eff = ode_system.ma**2 * ode_system.fa**2 * (1-np.cos(a)) + (ode_system.fa*a/ode_system.mu)*rho_c*c**2\n",
    "    return V_eff\n",
    "\n",
    "a_minimum = axion_initial_guess(rho_c, g_s_N)\n",
    "\n",
    "a = np.linspace(-3*np.pi, 3*np.pi,1000)\n",
    "\n",
    "plt.plot(a, axion_potential(a, rho_c));\n",
    "plt.xlabel(r'$a$')\n",
    "plt.axhline(y=0, linestyle='--', color='grey', linewidth=0.4)\n",
    "plt.axvline(x=0, linestyle='--', color='grey', linewidth=0.4)\n",
    "plt.ylabel(r\"$V(\\phi)[GeV^4]$\");\n",
    "plt.show()"
   ]
  },
  {
   "cell_type": "code",
   "execution_count": 4,
   "metadata": {},
   "outputs": [],
   "source": [
    "# Define the domain for r\n",
    "r_center = 1e-15\n",
    "r_rad = 3e6 \n",
    "\n",
    "initial_conditions = create_boundary_conditions(eos_class=apr_eos,\n",
    "    rho_c=rho_c,\n",
    "    nu_c=1,\n",
    "    lambda_c=0,\n",
    "    a_c=a_c_best,\n",
    "    ri=r_center\n",
    ")"
   ]
  },
  {
   "cell_type": "code",
   "execution_count": 5,
   "metadata": {},
   "outputs": [],
   "source": [
    "# the system need to be wrapped since solve_ivp expects the ode\n",
    "# function to be only function of (independent, dependent) variables\n",
    "def inside_ivp_wrapper(r, y):\n",
    "    P = apr_eos.get_pressure(extrapolate=True)\n",
    "    dPdRho = apr_eos.dP_dRho()\n",
    "    return inside_ivp_system(r, y, P, dPdRho)"
   ]
  },
  {
   "cell_type": "markdown",
   "metadata": {},
   "source": [
    "## 2) Interior: solve_ivp to get R"
   ]
  },
  {
   "cell_type": "code",
   "execution_count": null,
   "metadata": {},
   "outputs": [],
   "source": [
    "def solve_interior(initial_conditions):\n",
    "    # Solve the ivp\n",
    "    sol = solve_ivp(inside_ivp_wrapper, [r_center,r_rad], initial_conditions, method='LSODA', events=[stop_at_small_r_step])\n",
    "\n",
    "      # Extract boundary conditions at R from the interior solution\n",
    "    a_in = sol.y[0, :]  # a at the surface\n",
    "    a_prime_in = sol.y[1, :]  # a' at the surface\n",
    "    nu_in = sol.y[2, :]\n",
    "    llambda_in = sol.y[3, :]\n",
    "    rho = sol.y[4, :]\n",
    "    r_inside = sol.t\n",
    "    # Process the solution\n",
    "    # Check if the solution is successful and process it\n",
    "    if sol.success:\n",
    "        print(f\" IVP Solution found!\")\n",
    "        print(\"     \", sol.message)\n",
    "    if sol.t_events[0].size > 0:\n",
    "        event_message = sol.t_events[0][0]  # Get the message of the triggered event\n",
    "        print(f\"Event triggered: {event_message/1e5:0.4} km\")\n",
    "        radius = sol.t_events[0][0]\n",
    "    else:\n",
    "        print(f\" Warning: No events were triggered. Setting default radius value.\")\n",
    "        idx_outside = np.argmin(rho)\n",
    "        print(f\" Radius detected at rho = {rho[idx_outside]} g/cm^3 and R = {r_inside[idx_outside]/1e5} km\")\n",
    "        radius = r_inside[idx_outside]\n",
    "    return sol\n",
    "sol = solve_interior(initial_conditions)"
   ]
  },
  {
   "cell_type": "code",
   "execution_count": null,
   "metadata": {},
   "outputs": [],
   "source": [
    "r_inside = sol.t  # to avoid taking a negative density use [:-1]\n",
    "a, a_prime, nu, llambda, rho= sol.y[:,:]\n",
    "idx_outside = np.argmin(rho)\n",
    "radius_ns = r_inside[idx_outside]\n",
    "#mass_ns = mass_values[idx_outside]\n",
    "print(f\"The star has radius = {radius_ns/1e5:0.4} km at density = {rho[idx_outside]:0.4} g/cm^(3)\")"
   ]
  },
  {
   "cell_type": "code",
   "execution_count": null,
   "metadata": {},
   "outputs": [],
   "source": [
    "plot_something(r_inside, rho, y_label=r\"$\\rho (g/cm^3)$\", radius=radius_ns, debug=True)"
   ]
  },
  {
   "cell_type": "markdown",
   "metadata": {},
   "source": [
    "## 3) Outside System Relaxation"
   ]
  },
  {
   "cell_type": "code",
   "execution_count": 13,
   "metadata": {},
   "outputs": [],
   "source": [
    "################# B.C. for outside system ################# \n",
    "def create_outside_bc(a_R, a_prime_R, nu_R, llambda_R):\n",
    "    def outside_conditions(ya, yb):\n",
    "        return np.array([\n",
    "            ya[0] - a_R,                 #  ya[1] a_prime(ri) = 0\n",
    "            yb[1],                 #  yb[1] a_prime(rf) = 0\n",
    "            ya[2] - nu_R,    # nu(ri) = nu_initial\n",
    "            ya[3] - llambda_R, # lambda(ri) = lambda_initial\n",
    "        ])\n",
    "    return outside_conditions"
   ]
  },
  {
   "cell_type": "code",
   "execution_count": 14,
   "metadata": {},
   "outputs": [],
   "source": [
    "# B.C. for the outside system from the endpoint of the interior solution\n",
    "a_prime_R = a_prime[-1]\n",
    "a_R = a[-1]\n",
    "nu_R = nu[-1]\n",
    "llambda_R = llambda[-1]\n",
    "outside_bc_func = create_outside_bc(a_R, a_prime_R, nu_R, llambda_R)\n",
    "\n",
    "# Define the domain for r\n",
    "radius = r_inside[-1]\n",
    "r_far = 2e8\n",
    "r_outside = create_r_mesh(radius,r_far,4000)\n",
    "\n",
    "\n",
    "y_initial = np.zeros((4, r_outside.size))  # Initialize the array with zeros\n",
    "y_initial[0, :] = np.linspace(a_R, 0, len(r_outside))\n",
    "# linearly interpolate the remaining values of a(r) from ac to final_value_a\n",
    "y_initial[1, :] = np.linspace(a_prime_R, 0, len(r_outside))  # a_prime(r)\n",
    "y_initial[2, :] = nu_R  # nu(r)\n",
    "y_initial[3, :] = llambda_R  # llambda(r)"
   ]
  },
  {
   "cell_type": "code",
   "execution_count": 15,
   "metadata": {},
   "outputs": [],
   "source": [
    "def solve_bvp_outside(r_outside, y_initial, outside_bc_func, initial_tol):\n",
    "    print(f\"[{os.getpid()}] Solving the exterior....\")\n",
    "    tol = initial_tol  # Initialize the tolerance\n",
    "    while tol<=1.:\n",
    "        sol = solve_bvp(outside_bvp_system, outside_bc_func, r_outside, y_initial, max_nodes=1000000, tol=tol)\n",
    "        # store the solution\n",
    "        a_out = sol.sol(r_outside)[0]\n",
    "        a_prime_out = sol.sol(r_outside)[1]\n",
    "        nu_out = sol.sol(r_outside)[2]\n",
    "        llambda_out = sol.sol(r_outside)[3]\n",
    "    \n",
    "        # Check if the solution is successful\n",
    "        if sol.success:\n",
    "            print(f\"[{os.getpid()}] BVP Solution found with tol = {tol}!\")\n",
    "            return sol, a_out, a_prime_out, nu_out, llambda_out\n",
    "        else:\n",
    "            print(f\"[{os.getpid()}] Solution was not successful with tolerance {tol}. Retrying with higher tolerance.\")\n",
    "            tol *= 10  # Increase the tolerance by an order of magnitude\n",
    "    print(f\"[{os.getpid()}] Exceeded maximum tolerance. Solution not found.\")\n",
    "    return None, None, None, None, None\n"
   ]
  },
  {
   "cell_type": "code",
   "execution_count": null,
   "metadata": {},
   "outputs": [],
   "source": [
    "sol_out, a_out, a_prime_out, nu_out, llambda_out = solve_bvp_outside(r_outside, y_initial, outside_bc_func, initial_tol=1e-14)"
   ]
  },
  {
   "cell_type": "code",
   "execution_count": null,
   "metadata": {},
   "outputs": [],
   "source": [
    "# set the figure size large enough to accommodate two side-by-side plots\n",
    "plt.figure(figsize=(12, 3))  \n",
    "mass = c**2 * r_outside[-1] / (2*G) * (1. - np.exp(-llambda_out[-1]))/Msun\n",
    "print(f\"mass = {mass}\")\n",
    "\n",
    "plot_full_side_by_side(r_inside, r_outside, radius, a, a_out, 'a(r)', subplot_index=1)\n",
    "plot_full_side_by_side(r_inside, r_outside, radius, a_prime*1e5, a_prime_out*1e5, 'a\\'(r)', subplot_index=2)\n",
    "plt.savefig(\"ac_min_sol.pdf\")\n",
    "plt.show()\n"
   ]
  },
  {
   "cell_type": "code",
   "execution_count": null,
   "metadata": {},
   "outputs": [],
   "source": [
    "from scipy.optimize import minimize\n",
    "optimized_sol = {}\n",
    "def continuity_cost(a_initial_guess):\n",
    "    global optimized_sol\n",
    "    # Initial tolerance value for solve_bvp\n",
    "    initial_tol = 1e-14\n",
    "    # Step 1: Solve the interior problem with the current guess for a_initial\n",
    "    a_initial_guess = a_initial_guess[0]\n",
    "    print(f\"Initial guess: {a_initial_guess}\")\n",
    "\n",
    "    initial_conditions = create_boundary_conditions(eos_class=apr_eos,\n",
    "        rho_c=rho_c,\n",
    "        nu_c=1,\n",
    "        lambda_c=0,\n",
    "        a_c=a_initial_guess,\n",
    "        ri=r_center \n",
    "    )\n",
    "    sol_interior, a_in, a_prime_in, nu_in, llambda_in, rho, radius = solve_interior(initial_conditions)\n",
    "    if not sol_interior.success:\n",
    "        return np.inf  # Penalize failed solutions heavily\n",
    "    \n",
    "    # Extract boundary conditions at R from the interior solution\n",
    "    a_R = a_in[-1]  # a at the surface\n",
    "    a_prime_R = a_prime_in[-1]  # a' at the surface\n",
    "    nu_R = nu_in[-1]\n",
    "    llambda_R = llambda_in[-1]\n",
    "\n",
    "    # create the mesh for the BVP outside\n",
    "    r_far = 2e8\n",
    "    r_outside = create_r_mesh(radius,r_far,4000)\n",
    "    # Update the boundary conditions for the exterior problem\n",
    "    outside_bc_func = create_outside_bc(a_R, a_prime_R, nu_R, llambda_R)\n",
    "    \n",
    "    # gues initial solution\n",
    "    y_initial = np.zeros((4, r_outside.size))  # Initialize the array with zeros\n",
    "    y_initial[0, :] = np.linspace(a_R, 0, len(r_outside))\n",
    "    # linearly interpolate the remaining values of a(r) from ac to final_value_a\n",
    "    y_initial[1, :] = np.linspace(a_prime_R, 0, len(r_outside))  # a_prime(r)\n",
    "    y_initial[2, :] = nu_R  # nu(r)\n",
    "    y_initial[3, :] = llambda_R  # llambda(r)\n",
    "    \n",
    "    # Step 2: Solve the exterior problem with these boundary conditions\n",
    "    sol_exterior, a_out, a_prime_out, nu_out, llambda_out = solve_bvp_outside(r_outside, y_initial, outside_bc_func, initial_tol)\n",
    "    if not sol_exterior.success:\n",
    "        return np.inf  # Penalize failed solutions heavily\n",
    "    mass = c**2 * r_outside[-1] / (2*G) * (1. - np.exp(-llambda_out[-1]))/Msun\n",
    "\n",
    "    optimized_sol = {\n",
    "    \"a_c\": a_initial_guess, \"radius\": radius, \"mass\": mass, \"rho\": rho, \"a_in\": a_in, \"a_out\": a_out, \"a_prime_in\": a_prime_in, \"a_prime_out\": a_prime_out,\n",
    "    \"nu_in\": nu_in, \"nu_out\": nu_out, \"llambda_in\": llambda_in, \"llambda_out\": llambda_out, \n",
    "    \"r_inside\": sol_interior.t, \"r_outside\": r_outside\n",
    "    }\n",
    "    # Compute the cost: Here, we aim for a smooth transition, so ideally, a_out[0] - a_R should be close to 0\n",
    "    # and a_prime_out[0] - a_prime_R should be close to 0. Adjust the cost function as needed.\n",
    "    cost_a = (a_out[0] - a_R)**2   # Simple squared difference\n",
    "    cost_a_prime = (a_prime_out[0] - a_prime_R)**2\n",
    "    print(f\"Cost for a_R = {cost_a:0.3e}\")\n",
    "    print(f\"Cost for a_prime_R = {cost_a:0.3e}\")\n",
    "    cost = cost_a+cost_a_prime\n",
    "    \n",
    "    return cost \n",
    "\n",
    "# Initial guess for a_initial\n",
    "a_initial_guess = -0.01067754565061467 #initial_conditions[0]  # Use the a_initial you calculated earlier as the starting point\n",
    "\n",
    "# Perform the optimization\n",
    "result = minimize(continuity_cost, a_initial_guess, method='Nelder-Mead', options={'maxiter': 100, 'xatol': 1e-9})\n",
    "\n",
    "if result.success:\n",
    "    optimized_a_initial = result.x[0]\n",
    "    print(f\"Optimized a_initial: {optimized_a_initial}\")\n",
    "else:\n",
    "    print(\"Optimization was not successful. Try adjusting the initial guess or method.\")\n"
   ]
  },
  {
   "cell_type": "code",
   "execution_count": 29,
   "metadata": {},
   "outputs": [],
   "source": [
    "# Step 1: Solve the interior problem with the current guess for a_initial\n",
    "\n",
    "def full_solve(a_c, rho_c):\n",
    "\n",
    "  # Initial tolerance value\n",
    "  initial_tol = 1e-14\n",
    "\n",
    "  initial_conditions = create_boundary_conditions(eos_class=apr_eos,\n",
    "    rho_c=rho_c,\n",
    "    nu_c=1,\n",
    "    lambda_c=0,\n",
    "    a_c=a_c,\n",
    "    ri=r_center \n",
    "  )\n",
    "  sol_interior, a_in, a_prime_in, nu_in, llambda_in, rho, radius = solve_interior(initial_conditions)\n",
    "\n",
    "  # Extract boundary conditions at R from the interior solution\n",
    "  a_R = a_in[-1]  # a at the surface\n",
    "  a_prime_R = a_prime_in[-1]  # a' at the surface\n",
    "  nu_R = nu_in[-1]\n",
    "  llambda_R = llambda_in[-1]\n",
    "  \n",
    "  # mesh for outside solution\n",
    "  r_far = 2e8\n",
    "  r_outside = create_r_mesh(radius,r_far,4000)\n",
    "  # Update the boundary conditions for the exterior problem\n",
    "  outside_bc_func = create_outside_bc(a_R, a_prime_R, nu_R, llambda_R)\n",
    "\n",
    "  # gues initial solution\n",
    "  y_initial = np.zeros((4, r_outside.size))  # Initialize the array with zeros\n",
    "  y_initial[0, :] = np.linspace(a_R, 0, len(r_outside))\n",
    "  # linearly interpolate the remaining values of a(r) from ac to final_value_a\n",
    "  y_initial[1, :] = np.linspace(a_prime_R, 0, len(r_outside))  # a_prime(r)\n",
    "  y_initial[2, :] = nu_R  # nu(r)\n",
    "  y_initial[3, :] = llambda_R  # llambda(r)\n",
    "  # Step 2: Solve the exterior problem with these boundary conditions\n",
    "  sol_exterior, a_out, a_prime_out, nu_out, llambda_out = solve_bvp_outside(r_outside, y_initial, outside_bc_func, initial_tol)\n",
    "\n",
    "  results = {\n",
    "    \"a_c\": a_c, \"radius\": radius, \"rho\": rho, \"a_in\": a_in, \"a_out\": a_out, \"a_prime_in\": a_prime_in, \"a_prime_out\": a_prime_out,\n",
    "    \"nu_in\": nu_in, \"nu_out\": nu_out, \"llambda_in\": llambda_in, \"llambda_out\": llambda_out, \n",
    "    \"r_inside\": sol_interior.t, \"r_outside\": r_outside\n",
    "}\n",
    "\n",
    "  return results"
   ]
  },
  {
   "cell_type": "code",
   "execution_count": null,
   "metadata": {},
   "outputs": [],
   "source": [
    "results_dict = full_solve(optimized_a_initial, rho_c)"
   ]
  },
  {
   "cell_type": "code",
   "execution_count": null,
   "metadata": {},
   "outputs": [],
   "source": [
    "mass = c**2 * results_dict[\"r_outside\"][-1] / (2*G) * (1. - np.exp(-results_dict[\"llambda_out\"][-1]))/Msun\n",
    "print(f\"The star of rho = {rho_c:0.3e} g/cm^3 has M/Msun = {mass:0.5} and R = {radius/1e5:0.5} km\")"
   ]
  },
  {
   "cell_type": "code",
   "execution_count": null,
   "metadata": {},
   "outputs": [],
   "source": [
    "plt.close('all')\n",
    "# set the figure size large enough to accommodate two side-by-side plots\n",
    "plt.figure(figsize=(12, 3))  \n",
    "\n",
    "plot_full_side_by_side(results_dict[\"r_inside\"], results_dict[\"r_outside\"], results_dict[\"radius\"], results_dict[\"a_in\"], results_dict[\"a_out\"], 'a(r)', subplot_index=1)\n",
    "plot_full_side_by_side(results_dict[\"r_inside\"], results_dict[\"r_outside\"], results_dict[\"radius\"], results_dict[\"a_prime_in\"]*1e5, results_dict[\"a_prime_out\"]*1e5, 'a\\'(r)', subplot_index=2)\n",
    "\n",
    "plt.savefig(\"optimized_ac.pdf\")\n",
    "plt.show()"
   ]
  },
  {
   "cell_type": "code",
   "execution_count": null,
   "metadata": {},
   "outputs": [],
   "source": []
  }
 ],
 "metadata": {
  "kernelspec": {
   "display_name": "Python 3",
   "language": "python",
   "name": "python3"
  },
  "language_info": {
   "codemirror_mode": {
    "name": "ipython",
    "version": 3
   },
   "file_extension": ".py",
   "mimetype": "text/x-python",
   "name": "python",
   "nbconvert_exporter": "python",
   "pygments_lexer": "ipython3",
   "version": "3.10.14"
  }
 },
 "nbformat": 4,
 "nbformat_minor": 2
}
