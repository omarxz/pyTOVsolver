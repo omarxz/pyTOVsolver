{
 "cells": [
  {
   "cell_type": "code",
   "execution_count": 1,
   "metadata": {},
   "outputs": [],
   "source": [
    "%matplotlib widget\n",
    "import matplotlib\n",
    "import numpy as np\n",
    "import matplotlib.pyplot as plt\n",
    "from scipy.interpolate import interp1d\n",
    "from scipy.integrate import solve_ivp\n",
    "from EOS import NeutronStarEOS\n",
    "from ode_system import *\n",
    "from omars_little_helpers import create_r_mesh, plot_something\n",
    "apr_eos = NeutronStarEOS('APR')"
   ]
  },
  {
   "cell_type": "markdown",
   "metadata": {},
   "source": [
    "## 1) Initial conditions"
   ]
  },
  {
   "cell_type": "code",
   "execution_count": 2,
   "metadata": {},
   "outputs": [
    {
     "name": "stdout",
     "output_type": "stream",
     "text": [
      "<function create_boundary_conditions.<locals>.boundary_conditions at 0x10c882ca0>\n",
      "a_initial= -8.91e-04\n",
      "nu_initial = 1.00e+00\n",
      "llambda_initial= 6.21e-43\n",
      "rho_initial:1.00e+15\n"
     ]
    }
   ],
   "source": [
    "# Define the domain for r\n",
    "ri = 1e-15\n",
    "rf = 2e6 # right below the expected radius to debug the code first\n",
    "\n",
    "rho_c = 1e15\n",
    "a_prime_initial = 0\n",
    "\n",
    "boundary_conditions_func, a_initial, nu_initial, llambda_initial, rho_initial = create_boundary_conditions(eos_class=apr_eos,\n",
    "    rho_c=rho_c,\n",
    "    nu_c=1,\n",
    "    lambda_c=0,\n",
    "    a_c=-8.9088e-04,\n",
    "    ri=ri\n",
    ")\n",
    "print(boundary_conditions_func)\n",
    "print(f\"a_initial= {a_initial:0.2e}\" )\n",
    "print(f\"nu_initial = {nu_initial:0.2e}\")\n",
    "print(f\"llambda_initial= {llambda_initial:0.2e}\")\n",
    "print(f\"rho_initial:{rho_initial:0.2e}\")\n",
    "\n",
    "initial_conditions = [a_initial, a_prime_initial, nu_initial, llambda_initial, rho_initial]"
   ]
  },
  {
   "cell_type": "code",
   "execution_count": 3,
   "metadata": {},
   "outputs": [],
   "source": [
    "# the system need to be wrapped since solve_ivp expects the ode\n",
    "# function to be only function of (independent, dependent) variables\n",
    "def inside_ivp_wrapper(r, y):\n",
    "    P = apr_eos.get_pressure(extrapolate=True)\n",
    "    dPdRho = apr_eos.dP_dRho()\n",
    "    return inside_ivp_system(r, y, P, dPdRho)"
   ]
  },
  {
   "cell_type": "code",
   "execution_count": 4,
   "metadata": {},
   "outputs": [],
   "source": [
    "#Global variable to store the previous value of r\n",
    "previous_rho = [None]  # Use a list to allow modification inside the event function\n",
    "\n",
    "def stop_at_rho_negative(r, y):\n",
    "    # Access the global variable\n",
    "    global previous_rho\n",
    "    rho = y[-1]\n",
    "\n",
    "    # Check if the difference is less than the threshold\n",
    "    if rho < 1e-8 :\n",
    "        return 0  # Condition met, propose to stop integration\n",
    "    else:\n",
    "        return 1  # Condition not met, continue integration\n",
    "\n",
    "# Make the event function terminal\n",
    "stop_at_rho_negative.terminal = True"
   ]
  },
  {
   "cell_type": "markdown",
   "metadata": {},
   "source": [
    "## 2) solve_ivp to get R"
   ]
  },
  {
   "cell_type": "code",
   "execution_count": 6,
   "metadata": {},
   "outputs": [
    {
     "name": "stdout",
     "output_type": "stream",
     "text": [
      "Solution found!\n",
      "A termination event occurred.\n"
     ]
    }
   ],
   "source": [
    "def solve_system(a_initial):\n",
    "    global initial_conditions\n",
    "    # Solve the ivp\n",
    "    initial_conditions = [a_initial, a_prime_initial, nu_initial, llambda_initial, rho_initial]\n",
    "    sol = solve_ivp(inside_ivp_wrapper, [ri,rf], initial_conditions, method='LSODA', events = stop_at_small_r_step)\n",
    "\n",
    "    # Process the solution\n",
    "    # Check if the solution is successful and process it\n",
    "    if sol.success:\n",
    "        print('Solution found!')\n",
    "        print(sol.message)\n",
    "    else:\n",
    "        print(\"Solution was not successful.\")\n",
    "        print(sol.message)\n",
    "    return sol\n",
    "sol = solve_system(a_initial)"
   ]
  },
  {
   "cell_type": "code",
   "execution_count": 7,
   "metadata": {},
   "outputs": [],
   "source": [
    "r = sol.t[:-1]  # to avoid taking a negative density use [:-1]\n",
    "a, a_prime, nu, llambda, rho= sol.y[:,:-1]"
   ]
  },
  {
   "cell_type": "code",
   "execution_count": 12,
   "metadata": {},
   "outputs": [
    {
     "name": "stdout",
     "output_type": "stream",
     "text": [
      "The star has radius = 11.43 km at density = 1.416 g/cm^(3)\n"
     ]
    }
   ],
   "source": [
    "idx_outside = np.argmin(rho)\n",
    "radius_ns = r[idx_outside]\n",
    "#mass_ns = mass_values[idx_outside]\n",
    "print(f\"The star has radius = {radius_ns/1e5:0.4} km at density = {rho[idx_outside]:0.4} g/cm^(3)\")"
   ]
  },
  {
   "cell_type": "code",
   "execution_count": 40,
   "metadata": {},
   "outputs": [],
   "source": [
    "def plot_something(x, y, y_label, x_label=r'$r(km)$', y_scale=None, debug=False):\n",
    "    fig, ax = plt.subplots(figsize=(8, 4))\n",
    "    ax.plot(x/1e5, y, color='blue')\n",
    "    ax.set_xlabel(x_label)\n",
    "    ax.set_ylabel(y_label)\n",
    "    if debug:\n",
    "        ax.set_xlim(1e-1, 2e2)\n",
    "    else:\n",
    "        ax.set_xscale('log')\n",
    "    if y_scale == 'log':\n",
    "        ax.set_yscale('log')\n",
    "    ax.axvline(x=1e6/1e5, linestyle='--', color='grey', linewidth=0.4, zorder=-1)\n",
    "    ax.axhline(y=0, linestyle='--', color='grey', linewidth=0.4, zorder=-1)\n",
    "    ax.set_xlim(1e-4, x[-1]/1e5)\n",
    "    plt.show()\n",
    "    #plt.close(fig)"
   ]
  },
  {
   "cell_type": "code",
   "execution_count": 41,
   "metadata": {},
   "outputs": [
    {
     "data": {
      "application/vnd.jupyter.widget-view+json": {
       "model_id": "3a691df3ee8042c0b7435f5b262a01a8",
       "version_major": 2,
       "version_minor": 0
      },
      "image/png": "[encoded data removed]",
      "text/html": [
       "\n",
       "            <div style=\"display: inline-block;\">\n",
       "                <div class=\"jupyter-widgets widget-label\" style=\"text-align: center;\">\n",
       "                    Figure\n",
       "                </div>\n",
       "                <img src='data:image/png;base64,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' width=800.0/>\n",
       "            </div>\n",
       "        "
      ],
      "text/plain": [
       "Canvas(toolbar=Toolbar(toolitems=[('Home', 'Reset original view', 'home', 'home'), ('Back', 'Back to previous …"
      ]
     },
     "metadata": {},
     "output_type": "display_data"
    }
   ],
   "source": [
    "plot_something(r, rho, r\"$\\rho(g/cm^{3})$\", x_label=r'$r(km)$')"
   ]
  },
  {
   "cell_type": "markdown",
   "metadata": {},
   "source": [
    "# odeint method"
   ]
  },
  {
   "cell_type": "code",
   "execution_count": 8,
   "metadata": {},
   "outputs": [],
   "source": [
    "from scipy.optimize import minimize\n",
    "\n",
    "def optimization_target(a_initial):\n",
    "    try:\n",
    "        sol = solve_system(a_initial[0])\n",
    "    except Exception as e:\n",
    "        print(f\"Error encountered within solve_system: {e}\")\n",
    "        return 0  # Return a high value to indicate failure\n",
    "    # Access the derivative of A at the last point\n",
    "    a_prime_at_rfar = sol.y[1, -1]  # Ensure this is the correct row for dA/dr\n",
    "    # Objective: Minimize the square of the difference from desired condition (e.g., dA/dr at rfar = 0)\n",
    "    return np.abs(a_prime_at_rfar - 0)\n",
    "\n",
    "# Initial guess for A(0) as a scalar\n",
    "a_initial_guess = -0.000356551  # Ensuring it's a scalar\n",
    "\n",
    "# Use minimize to find the optimal A(0)\n",
    "result = minimize(optimization_target, a_initial_guess)\n",
    "\n",
    "if result.success:\n",
    "    optimized_A0 = result.x[0]  # Extract the optimized A(0) value\n",
    "    print(f\"Optimized A(0): {optimized_A0}\")\n",
    "else:\n",
    "    print(\"Optimization failed:\", result.message)\n"
   ]
  }
 ],
 "metadata": {
  "kernelspec": {
   "display_name": "Python 3",
   "language": "python",
   "name": "python3"
  },
  "language_info": {
   "codemirror_mode": {
    "name": "ipython",
    "version": 3
   },
   "file_extension": ".py",
   "mimetype": "text/x-python",
   "name": "python",
   "nbconvert_exporter": "python",
   "pygments_lexer": "ipython3",
   "version": "3.11.5"
  }
 },
 "nbformat": 4,
 "nbformat_minor": 2
}
