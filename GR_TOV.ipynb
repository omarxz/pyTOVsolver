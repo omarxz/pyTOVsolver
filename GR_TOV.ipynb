{
 "cells": [
  {
   "cell_type": "code",
   "execution_count": 1,
   "metadata": {},
   "outputs": [],
   "source": [
    "%matplotlib widget\n",
    "import matplotlib\n",
    "import numpy as np\n",
    "import matplotlib.pyplot as plt\n",
    "from scipy.interpolate import interp1d\n",
    "from scipy.integrate import solve_bvp, solve_ivp\n",
    "from EOS import NeutronStarEOS"
   ]
  },
  {
   "cell_type": "code",
   "execution_count": 2,
   "metadata": {},
   "outputs": [],
   "source": [
    "Msun = 1.988e33\n",
    "G = 6.6743e-8\n",
    "c = 3e10"
   ]
  },
  {
   "cell_type": "code",
   "execution_count": 3,
   "metadata": {},
   "outputs": [],
   "source": [
    "apr_eos = NeutronStarEOS('APR')"
   ]
  },
  {
   "cell_type": "code",
   "execution_count": 4,
   "metadata": {},
   "outputs": [],
   "source": [
    "def GR_create_boundary_conditions(eos_class, rho_c, ri):\n",
    "\n",
    "    P = eos_class.get_pressure()\n",
    "    dPdrho = eos_class.dP_dRho()\n",
    "    rho_initial = rho_c - 228.917 * ri**2\n",
    "    m_initial = 4.18879e14 * ri**3\n",
    "\n",
    "    def boundary_conditions(ya, yb):\n",
    "        return np.array([\n",
    "            ya[0] - rho_initial,                 \n",
    "            ya[1] - m_initial,                 \n",
    "        ])\n",
    "    \n",
    "    return boundary_conditions, rho_initial, m_initial\n"
   ]
  },
  {
   "cell_type": "code",
   "execution_count": 30,
   "metadata": {},
   "outputs": [
    {
     "data": {
      "text/plain": [
       "'    if not flag:\\n        expr_TOV = - (G / c**2) / r**2 * (rho * c**2 + P(rho)) * (mass + (4 * np.pi * r**3 * P(rho) / c**2)) / (1 - 2 * G * mass/(r * c**2))\\n        expr_TOV /= dPdRho(rho)\\n        drhodr = expr_TOV\\n        dmdr = 4 * np.pi * r**2 * rho\\n    else: \\n        drhodr = 0\\n        dmdr=0'"
      ]
     },
     "execution_count": 30,
     "metadata": {},
     "output_type": "execute_result"
    }
   ],
   "source": [
    "\"\"\"    if not flag:\n",
    "        expr_TOV = - (G / c**2) / r**2 * (rho * c**2 + P(rho)) * (mass + (4 * np.pi * r**3 * P(rho) / c**2)) / (1 - 2 * G * mass/(r * c**2))\n",
    "        expr_TOV /= dPdRho(rho)\n",
    "        drhodr = expr_TOV\n",
    "        dmdr = 4 * np.pi * r**2 * rho\n",
    "    else: \n",
    "        drhodr = 0\n",
    "        dmdr=0\"\"\""
   ]
  },
  {
   "cell_type": "code",
   "execution_count": 5,
   "metadata": {},
   "outputs": [
    {
     "name": "stdout",
     "output_type": "stream",
     "text": [
      "<function GR_create_boundary_conditions.<locals>.boundary_conditions at 0x10440eac0>\n",
      "rho_initial:1.00e+15\n",
      "mass_initial= 4.19e-31\n"
     ]
    }
   ],
   "source": [
    "ri = 1e-15\n",
    "rho_c = 1e15\n",
    "boundary_conditions_func, rho_initial, mass_initial = GR_create_boundary_conditions(\n",
    "    eos_class=apr_eos,\n",
    "    rho_c=rho_c,\n",
    "    ri=ri\n",
    ")\n",
    "print(boundary_conditions_func)\n",
    "print(f\"rho_initial:{rho_initial:0.2e}\")\n",
    "print(f\"mass_initial= {mass_initial:0.2e}\")"
   ]
  },
  {
   "cell_type": "code",
   "execution_count": 32,
   "metadata": {},
   "outputs": [
    {
     "name": "stdout",
     "output_type": "stream",
     "text": [
      "32999\n"
     ]
    }
   ],
   "source": [
    "# Define the domain for r\n",
    "rf = 2e6 # right below the expected radius to debug the code first\n",
    "start_order = int(np.log10(ri))\n",
    "end_order = int(np.log10(rf))\n",
    "points_per_order = 1500  # Adjust the number of points per order of magnitude\n",
    "\n",
    "# Create a single array with the desired number of points per order of magnitude\n",
    "#r = np.logspace(start_order, end_order, (end_order - start_order) * points_per_order, endpoint=True)\n",
    "r_original = np.logspace(start_order, end_order, (end_order - start_order) * points_per_order)\n",
    "r_dense = np.logspace(end_order, np.log10(rf), 1500)\n",
    "\n",
    "# Combine the meshes\n",
    "r = np.unique(np.concatenate((r_original, r_dense)))\n",
    "\n",
    "print(len(r))"
   ]
  },
  {
   "cell_type": "markdown",
   "metadata": {},
   "source": [
    "# 1) BVP Approach"
   ]
  },
  {
   "cell_type": "code",
   "execution_count": 8,
   "metadata": {},
   "outputs": [],
   "source": [
    "\"\"\"\n",
    "To Do:\n",
    "1) Setup class such that\n",
    "    i) drhodr and dmdr are only initialized once\n",
    "    ii) if rho<1: set rho=0 \n",
    "    iii) update TOV only for non-zero rhos\n",
    "    iv) repeat till TOV is solved through solve_bvp\n",
    "\"\"\"\n",
    "# global variables\n",
    "first_call = True\n",
    "global_drhodr = None\n",
    "global_dmdr = None\n",
    "\n",
    "class GR_ode_class:\n",
    "    def __init__(self, P, dPdRho):\n",
    "        #self.first_call = True\n",
    "        global global_drhodr, global_dmdr\n",
    "        self.P = P\n",
    "        self.dPdRho = dPdRho\n",
    "        #self.G = G\n",
    "        #self.c = c\n",
    "\n",
    "    def update(self, r, y):\n",
    "        global global_drhodr, global_dmdr, first_call\n",
    "        rho, mass = y\n",
    "        current_size = len(r)\n",
    "        global_drhodr = np.resize(global_drhodr, current_size)\n",
    "        global_dmdr = np.resize(global_dmdr, current_size)\n",
    "        #print(f\"\\nlen(rho) = {len(rho)}\")\n",
    "        #print(f\"len(r) = {len(r)}\")\n",
    "        #print(f\"len(mass) = {len(mass)}\\n\")\n",
    "        if first_call:\n",
    "            # Initial computation for drhodr and dmdr\n",
    "            global_drhodr = - (G / c**2) / r**2 * (rho * c**2 + self.P(rho)) * (mass + (4 * np.pi * r**3 * self.P(rho) / c**2)) / (1 - 2 * G * mass/(r * c**2)) \\\n",
    "                /self.dPdRho(rho) # Your initial derivative calculation for drhodr\n",
    "            global_dmdr = 4 * np.pi * r**2 * rho   # Your initial derivative calculation for dmdr\n",
    "            first_call = False\n",
    "            #print('Passed in self.first_call')\n",
    "            #print(f\" Last 10 rhos = {rho[-10:]}\")\n",
    "            #print(f\"len(global_drhodr) = {len(global_drhodr)}\")\n",
    "            #print(f\"len(global_dmdr) = {len(global_dmdr)}\\n\")\n",
    "        else:\n",
    "            # Find indices where rho is less than 1 and update\n",
    "            #print(\"Looking for rho <1\\n\")\n",
    "            #print(f\"\\nlen(rho) = {len(rho)}\")\n",
    "            #print(f\"len(r) = {len(r)}\")\n",
    "            #print(f\"len(mass) = {len(mass)}\\n\")\n",
    "            #print(f\"len(global_drhodr) = {len(global_drhodr)}\")\n",
    "            #print(f\"len(global_dmdr) = {len(global_dmdr)}\\n\")\n",
    "            indices = np.where(rho < 1)\n",
    "            if len(indices)>=2:\n",
    "                print('found rho<1')\n",
    "            rho[indices] = 1\n",
    "            #global_drhodr[indices] = -1e13\n",
    "            #global_dmdr[indices] = 1e30\n",
    "    \n",
    "            non_zero_indices = np.where(rho >= 1)\n",
    "            if len(non_zero_indices)>=2:\n",
    "                valid_rho = rho[non_zero_indices]\n",
    "                valid_mass = mass[non_zero_indices]\n",
    "                #print('valid_rho[-5:] = ', valid_rho[-5:])\n",
    "                expr_TOV = - (G / c**2) / r**2 * (valid_rho * c**2 + self.P(valid_rho)) * (valid_mass + (4 * np.pi * r**3 * self.P(valid_rho) / c**2)) / (1 - 2 * G * valid_mass/(r * c**2))\n",
    "                expr_TOV /= self.dPdRho(valid_rho)\n",
    "                global_drhodr[non_zero_indices] = expr_TOV\n",
    "                global_dmdr[non_zero_indices] = 4 * np.pi * r**2 * valid_rho\n",
    "\n",
    "        return np.array([global_drhodr, global_dmdr])\n",
    "\n"
   ]
  },
  {
   "cell_type": "code",
   "execution_count": 8,
   "metadata": {},
   "outputs": [],
   "source": [
    "# Define the initial guess for the solution\n",
    "y_initial = np.zeros((2, r.size))  # Initialize the array with zeros\n",
    "\n",
    "idx_1_km =  np.argmax(r >= 1.2e5) # solution should increase around here\n",
    "# set the first value of a(r) to ac\n",
    "# rho should be constant for a long distance and then decreases right before the radius\n",
    "y_initial[0, :idx_1_km] = rho_initial  # rho(r) \n",
    "y_initial[0, idx_1_km:] = np.linspace(rho_initial, 1.1, len(y_initial[0,idx_1_km:]))\n",
    "y_initial[1,:] = np.logspace(-31, 33, len(y_initial[1,:]))"
   ]
  },
  {
   "cell_type": "code",
   "execution_count": 9,
   "metadata": {},
   "outputs": [],
   "source": [
    "# the system need to be wrapped since solve_bvp expects the ode\n",
    "# function to be only function of (independent, dependent) variables\n",
    "\n",
    "def bvp_ode_system_wrapper(r, y):\n",
    "    GR_ode_system = GR_ode_class(P=apr_eos.get_pressure(), dPdRho=apr_eos.dP_dRho())\n",
    "    return GR_ode_system.update(r,y)"
   ]
  },
  {
   "cell_type": "code",
   "execution_count": 10,
   "metadata": {},
   "outputs": [
    {
     "name": "stdout",
     "output_type": "stream",
     "text": [
      "   Iteration    Max residual  Max BC residual  Total nodes    Nodes added  \n",
      "       1          6.22e+02       1.41e-29         32999          5213      \n",
      "       2          9.26e+02       8.50e-26         38212         (7266)     \n",
      "Number of nodes is exceeded after iteration 2. \n",
      "Maximum relative residual: 9.26e+02 \n",
      "Maximum boundary residual: 8.50e-26\n",
      "Solution was not successful.\n"
     ]
    }
   ],
   "source": [
    "# Solve the BVP\n",
    "sol = solve_bvp(bvp_ode_system_wrapper, boundary_conditions_func, r, y_initial, max_nodes=40000, verbose=2, tol=0.1)\n",
    "\n",
    "# Process the solution\n",
    "rho = sol.sol(r)[0]\n",
    "mass = sol.sol(r)[1]\n",
    "\n",
    "\n",
    "\n",
    "\n",
    "# Check if the solution is successful and process it\n",
    "if sol.success:\n",
    "    print('Solution found!')\n",
    "else:\n",
    "    print(\"Solution was not successful.\")"
   ]
  },
  {
   "cell_type": "markdown",
   "metadata": {},
   "source": [
    "# 2) IVP Approach"
   ]
  },
  {
   "cell_type": "code",
   "execution_count": 11,
   "metadata": {},
   "outputs": [],
   "source": [
    "rf = 3e6\n",
    "def GR_ode_system(r ,y ,P ,dPdRho):\n",
    "    rho, mass = y\n",
    "    if rho < 1:\n",
    "        return np.array([0,0])\n",
    "\n",
    "    expr_TOV = - (G / c**2) / r**2 * (rho * c**2 + P(rho)) * (mass + (4 * np.pi * r**3 * P(rho) / c**2)) / (1 - 2 * G * mass/(r * c**2))\n",
    "    expr_TOV /= dPdRho(rho)\n",
    "\n",
    "    drhodr = expr_TOV\n",
    "\n",
    "    dmdr = 4 * np.pi * r**2 * rho\n",
    "\n",
    "    return np.array([drhodr, dmdr])\n",
    "\n",
    "def ivp_system_wrapper(r, y):\n",
    "    P = apr_eos.get_pressure()\n",
    "    dPdRho = apr_eos.dP_dRho()\n",
    "    return GR_ode_system(r ,y ,P ,dPdRho)"
   ]
  },
  {
   "cell_type": "code",
   "execution_count": 12,
   "metadata": {},
   "outputs": [],
   "source": [
    "sol_ivp = solve_ivp(ivp_system_wrapper, (ri,rf), [rho_initial, mass_initial], method='RK45')"
   ]
  },
  {
   "cell_type": "code",
   "execution_count": 13,
   "metadata": {},
   "outputs": [],
   "source": [
    "r_values = sol_ivp.t\n",
    "rho_values, mass_values = sol_ivp.y"
   ]
  },
  {
   "cell_type": "code",
   "execution_count": 14,
   "metadata": {},
   "outputs": [
    {
     "data": {
      "text/plain": [
       "array([1.24952870e+03, 5.11451228e+02, 2.36948010e+02, 1.20232169e+02,\n",
       "       6.51493515e+01, 3.69714485e+01, 2.16568242e+01, 1.29725584e+01,\n",
       "       7.91795695e+00, 4.93051262e+00, 3.13854686e+00, 2.04216115e+00,\n",
       "       1.36013591e+00, 1.03484530e+00, 9.89030288e-01, 9.89030288e-01,\n",
       "       9.89030288e-01, 9.89030288e-01, 9.89030288e-01, 9.89030288e-01,\n",
       "       9.89030288e-01, 9.89030288e-01, 9.89030288e-01, 9.89030288e-01,\n",
       "       9.89030288e-01, 9.89030288e-01, 9.89030288e-01, 9.89030288e-01,\n",
       "       9.89030288e-01, 9.89030288e-01])"
      ]
     },
     "execution_count": 14,
     "metadata": {},
     "output_type": "execute_result"
    }
   ],
   "source": [
    "rho_values[-30:]"
   ]
  },
  {
   "cell_type": "code",
   "execution_count": 15,
   "metadata": {},
   "outputs": [
    {
     "name": "stdout",
     "output_type": "stream",
     "text": [
      "The star has mass = 1.43 Msun and radius = 11.4 km\n"
     ]
    }
   ],
   "source": [
    "idx_outside = np.argmin(rho_values)\n",
    "radius_ns = r_values[idx_outside]\n",
    "mass_ns = mass_values[idx_outside]\n",
    "print(f\"The star has mass = {mass_ns/Msun:0.3} Msun and radius = {radius_ns/1e5:0.3} km\")"
   ]
  },
  {
   "cell_type": "markdown",
   "metadata": {},
   "source": [
    "# 3) Plotting"
   ]
  },
  {
   "cell_type": "code",
   "execution_count": 16,
   "metadata": {},
   "outputs": [],
   "source": [
    "def plot_somethin(y, x, y_label, x_label=r'$r(km)$', y_scale=None, debug=False):\n",
    "    plt.figure(figsize=(8, 4))\n",
    "    plt.plot(x/1e5, y, color='blue', label = 'BVP')\n",
    "    plt.xlabel(x_label)\n",
    "    plt.ylabel(y_label)\n",
    "    if debug:\n",
    "       plt.xlim(x[-700]/1e5,x[-1]/1e5) \n",
    "    else:\n",
    "        plt.xscale('log')\n",
    "    if y_scale=='log':\n",
    "        plt.yscale('log')\n",
    "    plt.axvline(x=1e6/1e5, linestyle='--', color='grey', linewidth=0.4,zorder=-1)\n",
    "    \n",
    "    return plt.show()"
   ]
  },
  {
   "cell_type": "code",
   "execution_count": 21,
   "metadata": {},
   "outputs": [
    {
     "data": {
      "text/plain": [
       "array([1.00000000e+15, 1.00000000e+15, 1.00000000e+15, 1.00000000e+15,\n",
       "       1.00000000e+15, 1.00000000e+15, 1.00000000e+15, 1.00000001e+15,\n",
       "       1.00000069e+15, 1.00004402e+15, 1.00072058e+15, 1.00554963e+15,\n",
       "       1.02752459e+15, 1.10705351e+15, 1.43241898e+15, 1.91933597e+15,\n",
       "       2.27365615e+15, 3.30599397e+15, 4.74978087e+15, 6.05692688e+15,\n",
       "       9.31667591e+15, 1.33686004e+16, 1.60175927e+16, 2.16720897e+16,\n",
       "       3.07736112e+16, 3.47371941e+16, 4.10438907e+16, 5.19215183e+16,\n",
       "       8.84063698e+16, 1.39867111e+17, 1.98662442e+17, 2.24279065e+17,\n",
       "       2.64893977e+17, 3.01004488e+17, 3.59985988e+17, 4.09640235e+17,\n",
       "       4.91297993e+17, 5.58921845e+17, 6.70071016e+17, 7.61755944e+17,\n",
       "       9.12095531e+17, 1.03612804e+18, 1.23903729e+18, 1.40664130e+18,\n",
       "       1.68034722e+18, 1.90669567e+18, 2.27589649e+18, 2.58148240e+18,\n",
       "       3.07956819e+18, 3.49205904e+18, 4.16412706e+18, 5.20683703e+18,\n",
       "       8.35842456e+18, 1.15577045e+19, 1.33882424e+19, 1.67181926e+19,\n",
       "       2.48161953e+19, 3.88832865e+19, 6.47063145e+19, 9.16379979e+19,\n",
       "       1.17552722e+20, 1.17552722e+20, 1.17552722e+20, 1.17552722e+20,\n",
       "       1.17552722e+20, 1.17552722e+20, 1.17552722e+20, 1.17552722e+20,\n",
       "       1.17552722e+20, 1.17552722e+20, 1.17552722e+20, 1.17552722e+20,\n",
       "       1.17552722e+20, 1.17552722e+20])"
      ]
     },
     "execution_count": 21,
     "metadata": {},
     "output_type": "execute_result"
    }
   ],
   "source": [
    "rho_values"
   ]
  },
  {
   "cell_type": "code",
   "execution_count": 26,
   "metadata": {},
   "outputs": [
    {
     "data": {
      "application/vnd.jupyter.widget-view+json": {
       "model_id": "bf87e5361e4b484caa1e8add1bdb64b7",
       "version_major": 2,
       "version_minor": 0
      },
      "image/png": "[encoded data removed]",
      "text/html": [
       "\n",
       "            <div style=\"display: inline-block;\">\n",
       "                <div class=\"jupyter-widgets widget-label\" style=\"text-align: center;\">\n",
       "                    Figure 1\n",
       "                </div>\n",
       "                <img src='data:image/png;base64,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' width=640.0/>\n",
       "            </div>\n",
       "        "
      ],
      "text/plain": [
       "Canvas(toolbar=Toolbar(toolitems=[('Home', 'Reset original view', 'home', 'home'), ('Back', 'Back to previous …"
      ]
     },
     "metadata": {},
     "output_type": "display_data"
    }
   ],
   "source": [
    "%matplotlib widget\n",
    "#plot_somethin(rho, r, y_label=r\"$\\rho (g/cm^{3}) $\")\n",
    "plt.plot(r_values/1e5, rho_values, label='IVP')\n",
    "plt.xscale('log')\n",
    "plt.legend()\n",
    "plt.show()"
   ]
  },
  {
   "cell_type": "code",
   "execution_count": 22,
   "metadata": {},
   "outputs": [
    {
     "ename": "NameError",
     "evalue": "name 'mass' is not defined",
     "output_type": "error",
     "traceback": [
      "\u001b[0;31m---------------------------------------------------------------------------\u001b[0m",
      "\u001b[0;31mNameError\u001b[0m                                 Traceback (most recent call last)",
      "Cell \u001b[0;32mIn[22], line 1\u001b[0m\n\u001b[0;32m----> 1\u001b[0m plot_somethin(\u001b[43mmass\u001b[49m\u001b[38;5;241m/\u001b[39mMsun, r, y_label\u001b[38;5;241m=\u001b[39m\u001b[38;5;124mr\u001b[39m\u001b[38;5;124m\"\u001b[39m\u001b[38;5;124m$M/M_\u001b[39m\u001b[38;5;124m{\u001b[39m\u001b[38;5;124m\\\u001b[39m\u001b[38;5;124modot} $\u001b[39m\u001b[38;5;124m\"\u001b[39m)\n\u001b[1;32m      2\u001b[0m plt\u001b[38;5;241m.\u001b[39mplot(r_values\u001b[38;5;241m/\u001b[39m\u001b[38;5;241m1e5\u001b[39m, mass_values\u001b[38;5;241m/\u001b[39mMsun, label\u001b[38;5;241m=\u001b[39m\u001b[38;5;124m'\u001b[39m\u001b[38;5;124mIVP\u001b[39m\u001b[38;5;124m'\u001b[39m)\n\u001b[1;32m      3\u001b[0m plt\u001b[38;5;241m.\u001b[39mxscale(\u001b[38;5;124m'\u001b[39m\u001b[38;5;124mlog\u001b[39m\u001b[38;5;124m'\u001b[39m)\n",
      "\u001b[0;31mNameError\u001b[0m: name 'mass' is not defined"
     ]
    }
   ],
   "source": [
    "plot_somethin(mass/Msun, r, y_label=r\"$M/M_{\\odot} $\")\n",
    "plt.plot(r_values/1e5, mass_values/Msun, label='IVP')\n",
    "plt.xscale('log')\n",
    "plt.legend()"
   ]
  },
  {
   "cell_type": "code",
   "execution_count": null,
   "metadata": {},
   "outputs": [],
   "source": []
  }
 ],
 "metadata": {
  "kernelspec": {
   "display_name": "Python 3",
   "language": "python",
   "name": "python3"
  },
  "language_info": {
   "codemirror_mode": {
    "name": "ipython",
    "version": 3
   },
   "file_extension": ".py",
   "mimetype": "text/x-python",
   "name": "python",
   "nbconvert_exporter": "python",
   "pygments_lexer": "ipython3",
   "version": "3.11.5"
  }
 },
 "nbformat": 4,
 "nbformat_minor": 2
}
