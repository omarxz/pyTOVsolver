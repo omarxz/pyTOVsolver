{
 "cells": [
  {
   "cell_type": "code",
   "execution_count": 4,
   "metadata": {},
   "outputs": [
    {
     "name": "stdout",
     "output_type": "stream",
     "text": [
      "No Julia version found. Installing Julia.\n",
      "\u001b[1mJILL - Julia Installer 4 Linux (MacOS, Windows and FreeBSD) -- Light\u001b[0m\n",
      "\n",
      "jill will:\n",
      "  1) install Julia latest stable release for mac-x86_64 into \u001b[4m/Applications\u001b[0m\n",
      "  2) make symlinks in \u001b[4m/Users/omar/.local/bin\u001b[0m\n",
      "You may need to manually add \u001b[4m/Users/omar/.local/bin\u001b[0m to PATH\n",
      "Continue installation? [Y/n] \u001b[1m----- Download Julia -----\u001b[0m\n",
      "downloading Julia release for 1.10.0-mac-x86_64\n",
      "downloading from https://julialang-s3.julialang.org/bin/mac/x64/1.10/julia-1.10.0-mac64.dmg\n",
      "\n",
      "\u001b[92mfinished downloading julia-1.10.0-mac64.dmg\u001b[0m\n",
      "\u001b[1m----- Install Julia -----\u001b[0m\n",
      "\u001b[93mremove previous Julia installation: /Applications/Julia-1.10.app\u001b[0m\n",
      "\u001b[92minstall Julia to /Applications/Julia-1.10.app\u001b[0m\n",
      "add /Users/omar/.local/bin to PATH\n",
      "~/.bashrc will be modified\n",
      "if you're not using BASH, then you'll need manually add /Users/omar/.local/bin to your PATH\n",
      "you need to restart your current shell to update PATH\n",
      "\u001b[92mmake new symlink /Users/omar/.local/bin/julia-1\u001b[0m\n",
      "\u001b[92mmake new symlink /Users/omar/.local/bin/julia-1.10\u001b[0m\n",
      "\u001b[92mmake new symlink /Users/omar/.local/bin/julia\u001b[0m\n",
      "\u001b[1m----- Post Installation -----\u001b[0m\n",
      "remove downloaded files...\n",
      "remove /Users/omar/Research/Axions/pyTOVsolver/julia-1.10.0-mac64.dmg\n",
      "\u001b[92mDone!\u001b[0m\n"
     ]
    },
    {
     "ename": "RuntimeError",
     "evalue": "Julia installed with jill but `julia` binary cannot be found in the path",
     "output_type": "error",
     "traceback": [
      "\u001b[0;31m---------------------------------------------------------------------------\u001b[0m",
      "\u001b[0;31mRuntimeError\u001b[0m                              Traceback (most recent call last)",
      "Cell \u001b[0;32mIn[4], line 3\u001b[0m\n\u001b[1;32m      1\u001b[0m \u001b[38;5;28;01mimport\u001b[39;00m \u001b[38;5;21;01mos\u001b[39;00m\n\u001b[1;32m      2\u001b[0m os\u001b[38;5;241m.\u001b[39menviron[\u001b[38;5;124m\"\u001b[39m\u001b[38;5;124mJULIA_PYTHON_EXE\u001b[39m\u001b[38;5;124m\"\u001b[39m] \u001b[38;5;241m=\u001b[39m \u001b[38;5;124m\"\u001b[39m\u001b[38;5;124m/Applications/Julia-1.10.app/Contents/Resources/julia/bin/julia\u001b[39m\u001b[38;5;124m\"\u001b[39m\n\u001b[0;32m----> 3\u001b[0m \u001b[38;5;28;01mfrom\u001b[39;00m \u001b[38;5;21;01mdiffeqpy\u001b[39;00m \u001b[38;5;28;01mimport\u001b[39;00m de\n",
      "File \u001b[0;32m/usr/local/lib/python3.11/site-packages/diffeqpy/de.py:3\u001b[0m\n\u001b[1;32m      1\u001b[0m \u001b[38;5;28;01mimport\u001b[39;00m \u001b[38;5;21;01msys\u001b[39;00m\n\u001b[1;32m      2\u001b[0m \u001b[38;5;28;01mfrom\u001b[39;00m \u001b[38;5;21;01m.\u001b[39;00m \u001b[38;5;28;01mimport\u001b[39;00m load_julia_packages\n\u001b[0;32m----> 3\u001b[0m de, _, _ \u001b[38;5;241m=\u001b[39m \u001b[43mload_julia_packages\u001b[49m\u001b[43m(\u001b[49m\u001b[38;5;124;43m\"\u001b[39;49m\u001b[38;5;124;43mDifferentialEquations\u001b[39;49m\u001b[38;5;124;43m\"\u001b[39;49m\u001b[43m,\u001b[49m\u001b[43m \u001b[49m\u001b[38;5;124;43m\"\u001b[39;49m\u001b[38;5;124;43mModelingToolkit\u001b[39;49m\u001b[38;5;124;43m\"\u001b[39;49m\u001b[43m,\u001b[49m\u001b[43m \u001b[49m\u001b[38;5;124;43m\"\u001b[39;49m\u001b[38;5;124;43mPythonCall\u001b[39;49m\u001b[38;5;124;43m\"\u001b[39;49m\u001b[43m)\u001b[49m\n\u001b[1;32m      4\u001b[0m \u001b[38;5;28;01mfrom\u001b[39;00m \u001b[38;5;21;01mjuliacall\u001b[39;00m \u001b[38;5;28;01mimport\u001b[39;00m Main\n\u001b[1;32m      5\u001b[0m de\u001b[38;5;241m.\u001b[39mjit \u001b[38;5;241m=\u001b[39m Main\u001b[38;5;241m.\u001b[39mseval(\u001b[38;5;124m\"\u001b[39m\u001b[38;5;124mjit(x) = typeof(x).name.wrapper(ModelingToolkit.modelingtoolkitize(x), x.u0, x.tspan, x.p)\u001b[39m\u001b[38;5;124m\"\u001b[39m) \u001b[38;5;66;03m# kinda hackey\u001b[39;00m\n",
      "File \u001b[0;32m/usr/local/lib/python3.11/site-packages/diffeqpy/__init__.py:28\u001b[0m, in \u001b[0;36mload_julia_packages\u001b[0;34m(*names)\u001b[0m\n\u001b[1;32m     23\u001b[0m \u001b[38;5;250m\u001b[39m\u001b[38;5;124;03m\"\"\"\u001b[39;00m\n\u001b[1;32m     24\u001b[0m \u001b[38;5;124;03mLoad Julia packages and return references to them, automatically installing julia and\u001b[39;00m\n\u001b[1;32m     25\u001b[0m \u001b[38;5;124;03mthe packages as necessary.\u001b[39;00m\n\u001b[1;32m     26\u001b[0m \u001b[38;5;124;03m\"\"\"\u001b[39;00m\n\u001b[1;32m     27\u001b[0m \u001b[38;5;66;03m# This is terrifying to many people. However, it seems SciML takes pragmatic approach.\u001b[39;00m\n\u001b[0;32m---> 28\u001b[0m \u001b[43m_ensure_julia_installed\u001b[49m\u001b[43m(\u001b[49m\u001b[43m)\u001b[49m\n\u001b[1;32m     30\u001b[0m script \u001b[38;5;241m=\u001b[39m \u001b[38;5;124m\"\"\"\u001b[39m\u001b[38;5;124mimport Pkg\u001b[39m\n\u001b[1;32m     31\u001b[0m \u001b[38;5;124mPkg.activate(\u001b[39m\u001b[38;5;130;01m\\\"\u001b[39;00m\u001b[38;5;124mdiffeqpy\u001b[39m\u001b[38;5;130;01m\\\"\u001b[39;00m\u001b[38;5;124m, shared=true)\u001b[39m\n\u001b[1;32m     32\u001b[0m \u001b[38;5;124mtry\u001b[39m\n\u001b[0;32m   (...)\u001b[0m\n\u001b[1;32m     38\u001b[0m \u001b[38;5;124mend\u001b[39m\n\u001b[1;32m     39\u001b[0m \u001b[38;5;124m\u001b[39m\u001b[38;5;132;01m{0}\u001b[39;00m\u001b[38;5;124m\"\"\"\u001b[39m\u001b[38;5;241m.\u001b[39mformat(\u001b[38;5;124m\"\u001b[39m\u001b[38;5;124m, \u001b[39m\u001b[38;5;124m\"\u001b[39m\u001b[38;5;241m.\u001b[39mjoin(names), \u001b[38;5;124m\"\u001b[39m\u001b[38;5;124m, \u001b[39m\u001b[38;5;124m\"\u001b[39m\u001b[38;5;241m.\u001b[39mjoin(\u001b[38;5;124mf\u001b[39m\u001b[38;5;124m'\u001b[39m\u001b[38;5;124m\"\u001b[39m\u001b[38;5;132;01m{\u001b[39;00mname\u001b[38;5;132;01m}\u001b[39;00m\u001b[38;5;124m\"\u001b[39m\u001b[38;5;124m'\u001b[39m \u001b[38;5;28;01mfor\u001b[39;00m name \u001b[38;5;129;01min\u001b[39;00m names))\n\u001b[1;32m     41\u001b[0m \u001b[38;5;66;03m# Unfortunately, `seval` doesn't support multi-line strings\u001b[39;00m\n\u001b[1;32m     42\u001b[0m \u001b[38;5;66;03m# https://github.com/JuliaPy/PythonCall.jl/issues/433\u001b[39;00m\n",
      "File \u001b[0;32m/usr/local/lib/python3.11/site-packages/diffeqpy/__init__.py:17\u001b[0m, in \u001b[0;36m_ensure_julia_installed\u001b[0;34m()\u001b[0m\n\u001b[1;32m     15\u001b[0m install_julia()\n\u001b[1;32m     16\u001b[0m \u001b[38;5;28;01mif\u001b[39;00m \u001b[38;5;129;01mnot\u001b[39;00m _find_julia():\n\u001b[0;32m---> 17\u001b[0m     \u001b[38;5;28;01mraise\u001b[39;00m \u001b[38;5;167;01mRuntimeError\u001b[39;00m(\n\u001b[1;32m     18\u001b[0m         \u001b[38;5;124m\"\u001b[39m\u001b[38;5;124mJulia installed with jill but `julia` binary cannot be found in the path\u001b[39m\u001b[38;5;124m\"\u001b[39m\n\u001b[1;32m     19\u001b[0m     )\n",
      "\u001b[0;31mRuntimeError\u001b[0m: Julia installed with jill but `julia` binary cannot be found in the path"
     ]
    }
   ],
   "source": [
    "import os\n",
    "os.environ[\"JULIA_PYTHON_EXE\"] = \"/Applications/Julia-1.10.app/Contents/Resources/julia/bin/julia\"\n",
    "from diffeqpy import de"
   ]
  },
  {
   "cell_type": "code",
   "execution_count": 2,
   "metadata": {},
   "outputs": [
    {
     "name": "stdout",
     "output_type": "stream",
     "text": [
      "No Julia version found. Installing Julia.\n",
      "\u001b[1mJILL - Julia Installer 4 Linux (MacOS, Windows and FreeBSD) -- Light\u001b[0m\n",
      "\n",
      "jill will:\n",
      "  1) install Julia latest stable release for mac-x86_64 into \u001b[4m/Applications\u001b[0m\n",
      "  2) make symlinks in \u001b[4m/Users/omar/.local/bin\u001b[0m\n",
      "You may need to manually add \u001b[4m/Users/omar/.local/bin\u001b[0m to PATH\n",
      "Continue installation? [Y/n] "
     ]
    },
    {
     "ename": "RuntimeError",
     "evalue": "Julia installed with jill but `julia` binary cannot be found in the path",
     "output_type": "error",
     "traceback": [
      "\u001b[0;31m---------------------------------------------------------------------------\u001b[0m",
      "\u001b[0;31mRuntimeError\u001b[0m                              Traceback (most recent call last)",
      "Cell \u001b[0;32mIn[2], line 1\u001b[0m\n\u001b[0;32m----> 1\u001b[0m \u001b[38;5;28;01mfrom\u001b[39;00m \u001b[38;5;21;01mdiffeqpy\u001b[39;00m \u001b[38;5;28;01mimport\u001b[39;00m de\n\u001b[1;32m      3\u001b[0m \u001b[38;5;28;01mdef\u001b[39;00m \u001b[38;5;21mf\u001b[39m(u,p,t):\n\u001b[1;32m      4\u001b[0m     \u001b[38;5;28;01mreturn\u001b[39;00m \u001b[38;5;241m-\u001b[39mu\n",
      "File \u001b[0;32m/usr/local/lib/python3.11/site-packages/diffeqpy/de.py:3\u001b[0m\n\u001b[1;32m      1\u001b[0m \u001b[38;5;28;01mimport\u001b[39;00m \u001b[38;5;21;01msys\u001b[39;00m\n\u001b[1;32m      2\u001b[0m \u001b[38;5;28;01mfrom\u001b[39;00m \u001b[38;5;21;01m.\u001b[39;00m \u001b[38;5;28;01mimport\u001b[39;00m load_julia_packages\n\u001b[0;32m----> 3\u001b[0m de, _, _ \u001b[38;5;241m=\u001b[39m \u001b[43mload_julia_packages\u001b[49m\u001b[43m(\u001b[49m\u001b[38;5;124;43m\"\u001b[39;49m\u001b[38;5;124;43mDifferentialEquations\u001b[39;49m\u001b[38;5;124;43m\"\u001b[39;49m\u001b[43m,\u001b[49m\u001b[43m \u001b[49m\u001b[38;5;124;43m\"\u001b[39;49m\u001b[38;5;124;43mModelingToolkit\u001b[39;49m\u001b[38;5;124;43m\"\u001b[39;49m\u001b[43m,\u001b[49m\u001b[43m \u001b[49m\u001b[38;5;124;43m\"\u001b[39;49m\u001b[38;5;124;43mPythonCall\u001b[39;49m\u001b[38;5;124;43m\"\u001b[39;49m\u001b[43m)\u001b[49m\n\u001b[1;32m      4\u001b[0m \u001b[38;5;28;01mfrom\u001b[39;00m \u001b[38;5;21;01mjuliacall\u001b[39;00m \u001b[38;5;28;01mimport\u001b[39;00m Main\n\u001b[1;32m      5\u001b[0m de\u001b[38;5;241m.\u001b[39mjit \u001b[38;5;241m=\u001b[39m Main\u001b[38;5;241m.\u001b[39mseval(\u001b[38;5;124m\"\u001b[39m\u001b[38;5;124mjit(x) = typeof(x).name.wrapper(ModelingToolkit.modelingtoolkitize(x), x.u0, x.tspan, x.p)\u001b[39m\u001b[38;5;124m\"\u001b[39m) \u001b[38;5;66;03m# kinda hackey\u001b[39;00m\n",
      "File \u001b[0;32m/usr/local/lib/python3.11/site-packages/diffeqpy/__init__.py:28\u001b[0m, in \u001b[0;36mload_julia_packages\u001b[0;34m(*names)\u001b[0m\n\u001b[1;32m     23\u001b[0m \u001b[38;5;250m\u001b[39m\u001b[38;5;124;03m\"\"\"\u001b[39;00m\n\u001b[1;32m     24\u001b[0m \u001b[38;5;124;03mLoad Julia packages and return references to them, automatically installing julia and\u001b[39;00m\n\u001b[1;32m     25\u001b[0m \u001b[38;5;124;03mthe packages as necessary.\u001b[39;00m\n\u001b[1;32m     26\u001b[0m \u001b[38;5;124;03m\"\"\"\u001b[39;00m\n\u001b[1;32m     27\u001b[0m \u001b[38;5;66;03m# This is terrifying to many people. However, it seems SciML takes pragmatic approach.\u001b[39;00m\n\u001b[0;32m---> 28\u001b[0m \u001b[43m_ensure_julia_installed\u001b[49m\u001b[43m(\u001b[49m\u001b[43m)\u001b[49m\n\u001b[1;32m     30\u001b[0m script \u001b[38;5;241m=\u001b[39m \u001b[38;5;124m\"\"\"\u001b[39m\u001b[38;5;124mimport Pkg\u001b[39m\n\u001b[1;32m     31\u001b[0m \u001b[38;5;124mPkg.activate(\u001b[39m\u001b[38;5;130;01m\\\"\u001b[39;00m\u001b[38;5;124mdiffeqpy\u001b[39m\u001b[38;5;130;01m\\\"\u001b[39;00m\u001b[38;5;124m, shared=true)\u001b[39m\n\u001b[1;32m     32\u001b[0m \u001b[38;5;124mtry\u001b[39m\n\u001b[0;32m   (...)\u001b[0m\n\u001b[1;32m     38\u001b[0m \u001b[38;5;124mend\u001b[39m\n\u001b[1;32m     39\u001b[0m \u001b[38;5;124m\u001b[39m\u001b[38;5;132;01m{0}\u001b[39;00m\u001b[38;5;124m\"\"\"\u001b[39m\u001b[38;5;241m.\u001b[39mformat(\u001b[38;5;124m\"\u001b[39m\u001b[38;5;124m, \u001b[39m\u001b[38;5;124m\"\u001b[39m\u001b[38;5;241m.\u001b[39mjoin(names), \u001b[38;5;124m\"\u001b[39m\u001b[38;5;124m, \u001b[39m\u001b[38;5;124m\"\u001b[39m\u001b[38;5;241m.\u001b[39mjoin(\u001b[38;5;124mf\u001b[39m\u001b[38;5;124m'\u001b[39m\u001b[38;5;124m\"\u001b[39m\u001b[38;5;132;01m{\u001b[39;00mname\u001b[38;5;132;01m}\u001b[39;00m\u001b[38;5;124m\"\u001b[39m\u001b[38;5;124m'\u001b[39m \u001b[38;5;28;01mfor\u001b[39;00m name \u001b[38;5;129;01min\u001b[39;00m names))\n\u001b[1;32m     41\u001b[0m \u001b[38;5;66;03m# Unfortunately, `seval` doesn't support multi-line strings\u001b[39;00m\n\u001b[1;32m     42\u001b[0m \u001b[38;5;66;03m# https://github.com/JuliaPy/PythonCall.jl/issues/433\u001b[39;00m\n",
      "File \u001b[0;32m/usr/local/lib/python3.11/site-packages/diffeqpy/__init__.py:17\u001b[0m, in \u001b[0;36m_ensure_julia_installed\u001b[0;34m()\u001b[0m\n\u001b[1;32m     15\u001b[0m install_julia()\n\u001b[1;32m     16\u001b[0m \u001b[38;5;28;01mif\u001b[39;00m \u001b[38;5;129;01mnot\u001b[39;00m _find_julia():\n\u001b[0;32m---> 17\u001b[0m     \u001b[38;5;28;01mraise\u001b[39;00m \u001b[38;5;167;01mRuntimeError\u001b[39;00m(\n\u001b[1;32m     18\u001b[0m         \u001b[38;5;124m\"\u001b[39m\u001b[38;5;124mJulia installed with jill but `julia` binary cannot be found in the path\u001b[39m\u001b[38;5;124m\"\u001b[39m\n\u001b[1;32m     19\u001b[0m     )\n",
      "\u001b[0;31mRuntimeError\u001b[0m: Julia installed with jill but `julia` binary cannot be found in the path"
     ]
    }
   ],
   "source": [
    "from diffeqpy import de\n",
    "\n",
    "def f(u,p,t):\n",
    "    return -u\n",
    "\n",
    "u0 = 0.5\n",
    "tspan = (0., 1.)\n",
    "prob = de.ODEProblem(f, u0, tspan)\n",
    "integrator = de.init(prob, de.Tsit5())\n",
    "de.step_b(integrator)"
   ]
  },
  {
   "cell_type": "code",
   "execution_count": null,
   "metadata": {},
   "outputs": [],
   "source": []
  }
 ],
 "metadata": {
  "kernelspec": {
   "display_name": "Python 3",
   "language": "python",
   "name": "python3"
  },
  "language_info": {
   "codemirror_mode": {
    "name": "ipython",
    "version": 3
   },
   "file_extension": ".py",
   "mimetype": "text/x-python",
   "name": "python",
   "nbconvert_exporter": "python",
   "pygments_lexer": "ipython3",
   "version": "3.11.5"
  }
 },
 "nbformat": 4,
 "nbformat_minor": 2
}
